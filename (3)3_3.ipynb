{
  "cells": [
    {
      "cell_type": "markdown",
      "metadata": {
        "id": "view-in-github",
        "colab_type": "text"
      },
      "source": [
        "<a href=\"https://colab.research.google.com/github/LINTMAO/-3-3.3/blob/main/(3)3_3.ipynb\" target=\"_parent\"><img src=\"https://colab.research.google.com/assets/colab-badge.svg\" alt=\"Open In Colab\"/></a>"
      ]
    },
    {
      "cell_type": "code",
      "execution_count": null,
      "metadata": {
        "id": "9gRhE3g2bMoX",
        "colab": {
          "base_uri": "https://localhost:8080/"
        },
        "outputId": "c9f89a38-faac-45ed-b4fe-08bfe0c5396a"
      },
      "outputs": [
        {
          "output_type": "stream",
          "name": "stdout",
          "text": [
            "請輸入成績（輸入-1結束)：60\n",
            "請輸入成績（輸入-1結束)：0\n",
            "請輸入成績（輸入-1結束)：40\n",
            "請輸入成績（輸入-1結束)：100\n",
            "請輸入成績（輸入-1結束)：50\n",
            "請輸入成績（輸入-1結束)：30\n",
            "請輸入成績（輸入-1結束)：40\n",
            "請輸入成績（輸入-1結束)：-1\n",
            "全班人數： 7\n",
            "及格人數： 2\n",
            "不及格人數： 80\n",
            "全班平均值： 45.714285714285715\n"
          ]
        }
      ],
      "source": [
        "count = 0\n",
        "total = 0\n",
        "passc = 0\n",
        "failc = 0\n",
        "\n",
        "while True:\n",
        "  score = int( input(\"請輸入成績（輸入-1結束)：\"))\n",
        "  if score == -1 :\n",
        "    break\n",
        "  total += score\n",
        "  count += 1\n",
        "  if score >= 60 :\n",
        "     passc += 1\n",
        "  else:\n",
        "     failc += 16\n",
        "  avr = total / count\n",
        "\n",
        "\n",
        "print(\"全班人數：\" , count)\n",
        "print(\"及格人數：\" , passc)\n",
        "print(\"不及格人數：\" , failc)\n",
        "print(\"全班平均值：\" , avr)\n",
        "\n"
      ]
    }
  ],
  "metadata": {
    "kernelspec": {
      "display_name": "Python 3",
      "language": "python",
      "name": "python3"
    },
    "language_info": {
      "codemirror_mode": {
        "name": "ipython",
        "version": 3
      },
      "file_extension": ".py",
      "mimetype": "text/x-python",
      "name": "python",
      "nbconvert_exporter": "python",
      "pygments_lexer": "ipython3",
      "version": "3.7.3"
    },
    "colab": {
      "provenance": [],
      "include_colab_link": true
    }
  },
  "nbformat": 4,
  "nbformat_minor": 0
}